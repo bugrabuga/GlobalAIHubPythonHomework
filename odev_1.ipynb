{
 "cells": [
  {
   "cell_type": "code",
   "execution_count": 35,
   "metadata": {},
   "outputs": [
    {
     "name": "stdin",
     "output_type": "stream",
     "text": [
      "Lütfen isminizi ve soyisminizi giriniz:  Bugra Buga\n"
     ]
    },
    {
     "name": "stdout",
     "output_type": "stream",
     "text": [
      "İsim: Buğra\n"
     ]
    },
    {
     "name": "stdin",
     "output_type": "stream",
     "text": [
      "Lütfen yaşınızı giriniz:  25\n"
     ]
    },
    {
     "name": "stdout",
     "output_type": "stream",
     "text": [
      "Yaş: 25\n"
     ]
    },
    {
     "name": "stdin",
     "output_type": "stream",
     "text": [
      "Yaşadığınız Şehir:  Manisa\n"
     ]
    },
    {
     "name": "stdout",
     "output_type": "stream",
     "text": [
      "Şehir: Manisa\n"
     ]
    },
    {
     "name": "stdin",
     "output_type": "stream",
     "text": [
      "Mesleğiniz:  Öğrenci\n"
     ]
    },
    {
     "name": "stdout",
     "output_type": "stream",
     "text": [
      "Meslek: Öğrenci\n"
     ]
    },
    {
     "name": "stdin",
     "output_type": "stream",
     "text": [
      "Dogum Yılınız:  1995\n"
     ]
    },
    {
     "name": "stdout",
     "output_type": "stream",
     "text": [
      "Dogum Yılı: 1995\n"
     ]
    }
   ],
   "source": [
    "isim_soyisim = input(\"Lütfen isminizi ve soyisminizi giriniz: \")\n",
    "print(\"İsim: \" + isim)\n",
    "yas = int(input(\"Lütfen yaşınızı giriniz: \"))\n",
    "print(\"Yaş: \" + str(yas))\n",
    "sehir = input(\"Yaşadığınız Şehir: \")\n",
    "print(\"Şehir: \" + sehir)\n",
    "meslek = input(\"Mesleğiniz: \")\n",
    "print(f\"Meslek: {meslek}\")\n",
    "tarih = int(input(\"Dogum Yılınız: \"))\n",
    "print(\"Dogum Yılı: {}\".format(tarih))"
   ]
  },
  {
   "cell_type": "code",
   "execution_count": 43,
   "metadata": {},
   "outputs": [],
   "source": [
    "def type_of(x):\n",
    "    print(\"Tip {}\".format(type(x)))"
   ]
  },
  {
   "cell_type": "code",
   "execution_count": 44,
   "metadata": {},
   "outputs": [
    {
     "name": "stdout",
     "output_type": "stream",
     "text": [
      "Tip <class 'str'>\n"
     ]
    }
   ],
   "source": [
    "type_of(isim_soyisim)"
   ]
  },
  {
   "cell_type": "code",
   "execution_count": 45,
   "metadata": {},
   "outputs": [
    {
     "name": "stdout",
     "output_type": "stream",
     "text": [
      "Tip <class 'int'>\n"
     ]
    }
   ],
   "source": [
    "type_of(yas)"
   ]
  },
  {
   "cell_type": "code",
   "execution_count": 46,
   "metadata": {},
   "outputs": [
    {
     "name": "stdout",
     "output_type": "stream",
     "text": [
      "Tip <class 'str'>\n"
     ]
    }
   ],
   "source": [
    "type_of(meslek)"
   ]
  },
  {
   "cell_type": "code",
   "execution_count": 47,
   "metadata": {},
   "outputs": [
    {
     "name": "stdout",
     "output_type": "stream",
     "text": [
      "Tip <class 'int'>\n"
     ]
    }
   ],
   "source": [
    "type_of(tarih)"
   ]
  },
  {
   "cell_type": "code",
   "execution_count": 48,
   "metadata": {},
   "outputs": [
    {
     "name": "stdout",
     "output_type": "stream",
     "text": [
      "Tip <class 'str'>\n"
     ]
    }
   ],
   "source": [
    "type_of(sehir)"
   ]
  },
  {
   "cell_type": "code",
   "execution_count": null,
   "metadata": {},
   "outputs": [],
   "source": []
  }
 ],
 "metadata": {
  "kernelspec": {
   "display_name": "Python 3",
   "language": "python",
   "name": "python3"
  },
  "language_info": {
   "codemirror_mode": {
    "name": "ipython",
    "version": 3
   },
   "file_extension": ".py",
   "mimetype": "text/x-python",
   "name": "python",
   "nbconvert_exporter": "python",
   "pygments_lexer": "ipython3",
   "version": "3.8.3"
  }
 },
 "nbformat": 4,
 "nbformat_minor": 4
}
