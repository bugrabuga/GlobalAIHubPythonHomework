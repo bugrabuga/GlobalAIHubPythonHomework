{
 "cells": [
  {
   "cell_type": "code",
   "execution_count": 59,
   "metadata": {},
   "outputs": [
    {
     "name": "stdin",
     "output_type": "stream",
     "text": [
      "Adınız:  İsim\n",
      "Soyadınız:  Soyisim\n",
      "Yaşınız:  25\n",
      "Dogum Tarihiniz:  1995\n"
     ]
    },
    {
     "name": "stdout",
     "output_type": "stream",
     "text": [
      "You can go out to the street\n"
     ]
    }
   ],
   "source": [
    "ad = input(\"Adınız: \")\n",
    "soyad = input(\"Soyadınız: \")\n",
    "yas = int(input(\"Yaşınız: \"))\n",
    "dogum_tarihi = int(input(\"Dogum Tarihiniz: \"))\n",
    "\n",
    "if yas > 18:\n",
    "    print(\"You can go out to the street\")\n",
    "elif yas < 18:\n",
    "    print(\"You can't go out because it's to dangerous\")"
   ]
  },
  {
   "cell_type": "code",
   "execution_count": 57,
   "metadata": {},
   "outputs": [],
   "source": [
    "def user():\n",
    "    ad = input(\"Adınız: \")\n",
    "    soyad = input(\"Soyadınız: \")\n",
    "    yas = int(input(\"Yaşınız: \"))\n",
    "    dogum_tarihi = int(input(\"Dogum Tarihiniz: \"))\n",
    "    print(\"Ad: \",ad,\"\\n\",\"Soyad: \",soyad,\"\\n\",\"Yaş: \",yas,\"\\n\",\"Doğum Tarihi: \",dogum_tarihi)\n",
    "    if yas > 18:\n",
    "        print(\"You can go out to the street\")\n",
    "    else:\n",
    "        print(\"You can't go out because it's to dangerous\")"
   ]
  },
  {
   "cell_type": "code",
   "execution_count": 60,
   "metadata": {},
   "outputs": [
    {
     "name": "stdin",
     "output_type": "stream",
     "text": [
      "Adınız:  İsim\n",
      "Soyadınız:  Soyisim\n",
      "Yaşınız:  14\n",
      "Dogum Tarihiniz:  2006\n"
     ]
    },
    {
     "name": "stdout",
     "output_type": "stream",
     "text": [
      "Ad:  İsim \n",
      " Soyad:  Soyisim \n",
      " Yaş:  14 \n",
      " Doğum Tarihi:  2006\n",
      "You can't go out because it's to dangerous\n"
     ]
    }
   ],
   "source": [
    "user()"
   ]
  },
  {
   "cell_type": "code",
   "execution_count": null,
   "metadata": {},
   "outputs": [],
   "source": []
  },
  {
   "cell_type": "code",
   "execution_count": null,
   "metadata": {},
   "outputs": [],
   "source": []
  }
 ],
 "metadata": {
  "kernelspec": {
   "display_name": "Python 3",
   "language": "python",
   "name": "python3"
  },
  "language_info": {
   "codemirror_mode": {
    "name": "ipython",
    "version": 3
   },
   "file_extension": ".py",
   "mimetype": "text/x-python",
   "name": "python",
   "nbconvert_exporter": "python",
   "pygments_lexer": "ipython3",
   "version": "3.8.3"
  }
 },
 "nbformat": 4,
 "nbformat_minor": 4
}
