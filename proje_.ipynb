{
 "cells": [
  {
   "cell_type": "code",
   "execution_count": 99,
   "metadata": {},
   "outputs": [
    {
     "name": "stdin",
     "output_type": "stream",
     "text": [
      "İsim:  İsim\n",
      "Soyisim:  Soyisim\n"
     ]
    },
    {
     "name": "stdout",
     "output_type": "stream",
     "text": [
      "Hoşgeldiniz\n"
     ]
    },
    {
     "name": "stdin",
     "output_type": "stream",
     "text": [
      "Seçmek istediğiniz ders:  ders1\n",
      "Seçmek istediğiniz ders:  ders2\n",
      "Seçmek istediğiniz ders:  ders3\n",
      "Seçmek istediğiniz ders:  ders4\n",
      "Seçmek istediğiniz ders:  ders5\n"
     ]
    },
    {
     "name": "stdout",
     "output_type": "stream",
     "text": [
      "Seçilen Dersler:  ['ders1', 'ders2', 'ders3', 'ders4', 'ders5']\n"
     ]
    },
    {
     "name": "stdin",
     "output_type": "stream",
     "text": [
      "Vize notu:  80\n",
      "Final notu:  100\n",
      "Proje notu:  90\n"
     ]
    },
    {
     "name": "stdout",
     "output_type": "stream",
     "text": [
      "Harf Notu: AA\n"
     ]
    }
   ],
   "source": [
    "gercek_isim = \"İsim\"\n",
    "gercek_soyisim = \"Soyisim\"\n",
    "\n",
    "hata = 0\n",
    "while hata < 3:\n",
    "    alinan_isim = input(\"İsim: \")\n",
    "    alinan_soyisim = input(\"Soyisim: \")\n",
    "    \n",
    "    if gercek_isim == alinan_isim and gercek_soyisim == alinan_soyisim:\n",
    "        print(\"Hoşgeldiniz\")\n",
    "        break\n",
    "    elif not alinan_isim:\n",
    "        print(\"İsim boş olamaz\")\n",
    "    elif not alinan_soyisim:\n",
    "        print(\"Soyisim boş olamaz\")\n",
    "    else:\n",
    "        print(\"İsim veya Soyisim yanlış\")\n",
    "        hata += 1\n",
    "        \n",
    "ders1 = input(\"Seçmek istediğiniz ders: \")\n",
    "ders2 = input(\"Seçmek istediğiniz ders: \")\n",
    "ders3 = input(\"Seçmek istediğiniz ders: \")\n",
    "ders4 = input(\"Seçmek istediğiniz ders: \")\n",
    "ders5 = input(\"Seçmek istediğiniz ders: \")\n",
    "\n",
    "\n",
    "dersler = [ders1,ders2,ders3,ders4,ders5]\n",
    "secim = []\n",
    "for i in dersler:\n",
    "    if len(i) > 0:\n",
    "        secim.append(i)\n",
    "print(\"Seçilen Dersler: \",secim)\n",
    "\n",
    "\n",
    "vize = int(input(\"Vize notu: \"))\n",
    "final = int(input(\"Final notu: \"))\n",
    "proje = int(input(\"Proje notu: \"))\n",
    "ort = (vize * (3/10) + (final * (5/10) + (proje * (2/10))))\n",
    "if ort > 90:\n",
    "    print(\"Harf Notu: AA\")\n",
    "elif ort > 70 and ort < 90:\n",
    "    print(\"Harf Notu: BB\")\n",
    "elif ort > 50 and ort < 70:\n",
    "    print(\"Harf Notu: CC\")\n",
    "elif ort > 30 and ort < 50:\n",
    "    print(\"Harf Notu: DD\")\n",
    "else:\n",
    "    print(\"Harf Notu: FF \\n Ders Başarısız!\")"
   ]
  },
  {
   "cell_type": "code",
   "execution_count": null,
   "metadata": {},
   "outputs": [],
   "source": []
  }
 ],
 "metadata": {
  "kernelspec": {
   "display_name": "Python 3",
   "language": "python",
   "name": "python3"
  },
  "language_info": {
   "codemirror_mode": {
    "name": "ipython",
    "version": 3
   },
   "file_extension": ".py",
   "mimetype": "text/x-python",
   "name": "python",
   "nbconvert_exporter": "python",
   "pygments_lexer": "ipython3",
   "version": "3.8.3"
  }
 },
 "nbformat": 4,
 "nbformat_minor": 4
}
