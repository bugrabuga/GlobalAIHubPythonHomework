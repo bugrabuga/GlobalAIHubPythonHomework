{
 "cells": [
  {
   "cell_type": "code",
   "execution_count": null,
   "metadata": {},
   "outputs": [
    {
     "name": "stdin",
     "output_type": "stream",
     "text": [
      "Enter Name:  Bugra\n"
     ]
    },
    {
     "name": "stdout",
     "output_type": "stream",
     "text": [
      "Hello Bugra welcome ! Play To Hangman\n"
     ]
    }
   ],
   "source": [
    "name = input(\"Enter Name: \")\n",
    "print(\"Hello {} welcome ! Play To Hangman\".format(name))\n",
    "secret_words = input(\"Enter a secret words: \")\n",
    "guess_string = \" \"\n",
    "lives = 10\n",
    "#Büyük yazılan kelimeleri küçük yazıldıgında kabul etmedigi icin hepsini kücültüyorum\n",
    "secret_words = secret_words.lower()\n",
    "while lives > 0:\n",
    "    character_left = 0\n",
    "    for character in secret_words:\n",
    "        if character in guess_string:\n",
    "            print(character)\n",
    "        else:\n",
    "            print(\"-\")\n",
    "            character_left += 1\n",
    "    if character_left == 0:\n",
    "        print(\"You Won!!\")\n",
    "        break\n",
    "        \n",
    "    guess = input(\"Guess a word: \")\n",
    "    guess_string += guess\n",
    "    \n",
    "    if guess not in secret_words:\n",
    "        lives -= 1\n",
    "        print(\"Wrong!\")\n",
    "        print(\"You have a {} lives left\".format(lives))\n",
    "        if lives == 0:\n",
    "            print(\"Game Over!!\")\n",
    "            print(\"Try Again\")\n",
    "            break"
   ]
  },
  {
   "cell_type": "code",
   "execution_count": null,
   "metadata": {},
   "outputs": [],
   "source": []
  }
 ],
 "metadata": {
  "kernelspec": {
   "display_name": "Python 3",
   "language": "python",
   "name": "python3"
  },
  "language_info": {
   "codemirror_mode": {
    "name": "ipython",
    "version": 3
   },
   "file_extension": ".py",
   "mimetype": "text/x-python",
   "name": "python",
   "nbconvert_exporter": "python",
   "pygments_lexer": "ipython3",
   "version": "3.8.3"
  }
 },
 "nbformat": 4,
 "nbformat_minor": 4
}
